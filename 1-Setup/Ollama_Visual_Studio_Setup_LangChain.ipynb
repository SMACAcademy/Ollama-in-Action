{
 "cells": [
  {
   "cell_type": "markdown",
   "metadata": {},
   "source": [
    "## Create Conda environment \n"
   ]
  },
  {
   "cell_type": "code",
   "execution_count": null,
   "metadata": {},
   "outputs": [],
   "source": [
    "conda env remove --name langchain\n",
    "\n",
    "conda create -n langchain python=3.12 -y \n",
    "conda activate langchain\n",
    "conda env list\n"
   ]
  },
  {
   "cell_type": "markdown",
   "metadata": {},
   "source": [
    "## Create new Jupitor Notebook\n",
    "    - After ctrl+shift+P\n",
    "    - python: select Interpreter\n",
    "    - Create: New Jupyter Notebook"
   ]
  },
  {
   "cell_type": "code",
   "execution_count": 8,
   "metadata": {},
   "outputs": [
    {
     "name": "stdout",
     "output_type": "stream",
     "text": [
      "Requirement already satisfied: langchain-ollama in c:\\users\\muthu\\.conda\\envs\\langchain\\lib\\site-packages (0.2.2)\n",
      "Requirement already satisfied: langchain-core<0.4.0,>=0.3.27 in c:\\users\\muthu\\.conda\\envs\\langchain\\lib\\site-packages (from langchain-ollama) (0.3.29)\n",
      "Requirement already satisfied: ollama<1,>=0.4.4 in c:\\users\\muthu\\.conda\\envs\\langchain\\lib\\site-packages (from langchain-ollama) (0.4.5)\n",
      "Requirement already satisfied: PyYAML>=5.3 in c:\\users\\muthu\\.conda\\envs\\langchain\\lib\\site-packages (from langchain-core<0.4.0,>=0.3.27->langchain-ollama) (6.0.2)\n",
      "Requirement already satisfied: jsonpatch<2.0,>=1.33 in c:\\users\\muthu\\.conda\\envs\\langchain\\lib\\site-packages (from langchain-core<0.4.0,>=0.3.27->langchain-ollama) (1.33)\n",
      "Requirement already satisfied: langsmith<0.3,>=0.1.125 in c:\\users\\muthu\\.conda\\envs\\langchain\\lib\\site-packages (from langchain-core<0.4.0,>=0.3.27->langchain-ollama) (0.2.10)\n",
      "Requirement already satisfied: packaging<25,>=23.2 in c:\\users\\muthu\\.conda\\envs\\langchain\\lib\\site-packages (from langchain-core<0.4.0,>=0.3.27->langchain-ollama) (24.2)\n",
      "Requirement already satisfied: pydantic<3.0.0,>=2.7.4 in c:\\users\\muthu\\.conda\\envs\\langchain\\lib\\site-packages (from langchain-core<0.4.0,>=0.3.27->langchain-ollama) (2.10.5)\n",
      "Requirement already satisfied: tenacity!=8.4.0,<10.0.0,>=8.1.0 in c:\\users\\muthu\\.conda\\envs\\langchain\\lib\\site-packages (from langchain-core<0.4.0,>=0.3.27->langchain-ollama) (9.0.0)\n",
      "Requirement already satisfied: typing-extensions>=4.7 in c:\\users\\muthu\\.conda\\envs\\langchain\\lib\\site-packages (from langchain-core<0.4.0,>=0.3.27->langchain-ollama) (4.12.2)\n",
      "Requirement already satisfied: httpx<0.28.0,>=0.27.0 in c:\\users\\muthu\\.conda\\envs\\langchain\\lib\\site-packages (from ollama<1,>=0.4.4->langchain-ollama) (0.27.2)\n",
      "Requirement already satisfied: anyio in c:\\users\\muthu\\.conda\\envs\\langchain\\lib\\site-packages (from httpx<0.28.0,>=0.27.0->ollama<1,>=0.4.4->langchain-ollama) (4.8.0)\n",
      "Requirement already satisfied: certifi in c:\\users\\muthu\\.conda\\envs\\langchain\\lib\\site-packages (from httpx<0.28.0,>=0.27.0->ollama<1,>=0.4.4->langchain-ollama) (2024.12.14)\n",
      "Requirement already satisfied: httpcore==1.* in c:\\users\\muthu\\.conda\\envs\\langchain\\lib\\site-packages (from httpx<0.28.0,>=0.27.0->ollama<1,>=0.4.4->langchain-ollama) (1.0.7)\n",
      "Requirement already satisfied: idna in c:\\users\\muthu\\.conda\\envs\\langchain\\lib\\site-packages (from httpx<0.28.0,>=0.27.0->ollama<1,>=0.4.4->langchain-ollama) (3.10)\n",
      "Requirement already satisfied: sniffio in c:\\users\\muthu\\.conda\\envs\\langchain\\lib\\site-packages (from httpx<0.28.0,>=0.27.0->ollama<1,>=0.4.4->langchain-ollama) (1.3.1)\n",
      "Requirement already satisfied: h11<0.15,>=0.13 in c:\\users\\muthu\\.conda\\envs\\langchain\\lib\\site-packages (from httpcore==1.*->httpx<0.28.0,>=0.27.0->ollama<1,>=0.4.4->langchain-ollama) (0.14.0)\n",
      "Requirement already satisfied: jsonpointer>=1.9 in c:\\users\\muthu\\.conda\\envs\\langchain\\lib\\site-packages (from jsonpatch<2.0,>=1.33->langchain-core<0.4.0,>=0.3.27->langchain-ollama) (3.0.0)\n",
      "Requirement already satisfied: orjson<4.0.0,>=3.9.14 in c:\\users\\muthu\\.conda\\envs\\langchain\\lib\\site-packages (from langsmith<0.3,>=0.1.125->langchain-core<0.4.0,>=0.3.27->langchain-ollama) (3.10.14)\n",
      "Requirement already satisfied: requests<3,>=2 in c:\\users\\muthu\\.conda\\envs\\langchain\\lib\\site-packages (from langsmith<0.3,>=0.1.125->langchain-core<0.4.0,>=0.3.27->langchain-ollama) (2.32.3)\n",
      "Requirement already satisfied: requests-toolbelt<2.0.0,>=1.0.0 in c:\\users\\muthu\\.conda\\envs\\langchain\\lib\\site-packages (from langsmith<0.3,>=0.1.125->langchain-core<0.4.0,>=0.3.27->langchain-ollama) (1.0.0)\n",
      "Requirement already satisfied: annotated-types>=0.6.0 in c:\\users\\muthu\\.conda\\envs\\langchain\\lib\\site-packages (from pydantic<3.0.0,>=2.7.4->langchain-core<0.4.0,>=0.3.27->langchain-ollama) (0.7.0)\n",
      "Requirement already satisfied: pydantic-core==2.27.2 in c:\\users\\muthu\\.conda\\envs\\langchain\\lib\\site-packages (from pydantic<3.0.0,>=2.7.4->langchain-core<0.4.0,>=0.3.27->langchain-ollama) (2.27.2)\n",
      "Requirement already satisfied: charset-normalizer<4,>=2 in c:\\users\\muthu\\.conda\\envs\\langchain\\lib\\site-packages (from requests<3,>=2->langsmith<0.3,>=0.1.125->langchain-core<0.4.0,>=0.3.27->langchain-ollama) (3.4.1)\n",
      "Requirement already satisfied: urllib3<3,>=1.21.1 in c:\\users\\muthu\\.conda\\envs\\langchain\\lib\\site-packages (from requests<3,>=2->langsmith<0.3,>=0.1.125->langchain-core<0.4.0,>=0.3.27->langchain-ollama) (2.3.0)\n",
      "Note: you may need to restart the kernel to use updated packages.\n"
     ]
    }
   ],
   "source": [
    "%pip install langchain-ollama\n"
   ]
  },
  {
   "cell_type": "code",
   "execution_count": 9,
   "metadata": {},
   "outputs": [],
   "source": [
    "from langchain_ollama import OllamaLLM\n"
   ]
  },
  {
   "cell_type": "code",
   "execution_count": 10,
   "metadata": {},
   "outputs": [],
   "source": [
    "llm = OllamaLLM(model=\"llama3.2:latest\")\n"
   ]
  },
  {
   "cell_type": "code",
   "execution_count": 11,
   "metadata": {},
   "outputs": [
    {
     "name": "stdout",
     "output_type": "stream",
     "text": [
      "LangChain is an open-source framework for building blockchain-based applications on top of Ethereum and other decentralized networks. It allows developers to create custom chain-agnostic wallets, decentralized data storage solutions, and other blockchain-related projects with ease.\n",
      "\n",
      "The main goal of LangChain is to provide a set of libraries and tools that enable developers to build blockchain-native applications without having to start from scratch or relying on third-party services. By providing a layer of abstraction between the blockchain and the application logic, LangChain enables developers to focus on building their application's functionality while still benefiting from the security and decentralization provided by blockchain technology.\n",
      "\n",
      "Some key features of LangChain include:\n",
      "\n",
      "1. Chain-agnostic: LangChain allows developers to build applications that can be deployed across multiple blockchain networks, including Ethereum, Binance Smart Chain, Polygon, and more.\n",
      "2. Customizable wallets: LangChain provides a set of tools for building custom chain-agnostic wallets that can be used to interact with various blockchain networks.\n",
      "3. Decentralized data storage: LangChain offers a decentralized storage solution that allows developers to store and retrieve data in a secure and tamper-proof manner.\n",
      "4. Smart contract functionality: LangChain includes a set of smart contract libraries that enable developers to create custom smart contracts for their applications.\n",
      "\n",
      "Overall, LangChain aims to provide a versatile and flexible framework for building blockchain-based applications, allowing developers to focus on creating innovative solutions while still benefiting from the benefits of decentralized technology.\n"
     ]
    }
   ],
   "source": [
    "# Example usage\n",
    "response = llm.invoke(\"What is LangChain?\")\n",
    "print(response)"
   ]
  }
 ],
 "metadata": {
  "kernelspec": {
   "display_name": "langchain",
   "language": "python",
   "name": "python3"
  },
  "language_info": {
   "codemirror_mode": {
    "name": "ipython",
    "version": 3
   },
   "file_extension": ".py",
   "mimetype": "text/x-python",
   "name": "python",
   "nbconvert_exporter": "python",
   "pygments_lexer": "ipython3",
   "version": "3.12.8"
  }
 },
 "nbformat": 4,
 "nbformat_minor": 2
}
