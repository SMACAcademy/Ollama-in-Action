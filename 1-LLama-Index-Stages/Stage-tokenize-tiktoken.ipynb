{
 "cells": [
  {
   "cell_type": "code",
   "execution_count": null,
   "metadata": {},
   "outputs": [],
   "source": [
    "!pip install tiktoken"
   ]
  },
  {
   "cell_type": "code",
   "execution_count": null,
   "metadata": {},
   "outputs": [],
   "source": [
    "from transformers import LlamaTokenizer\n",
    "import tiktoken\n",
    "\n",
    "# Load the Hugging Face LLaMA tokenizer\n",
    "llama_tokenizer = LlamaTokenizer.from_pretrained(\"huggingface/llama-model\")\n",
    "\n",
    "# Load OpenAI's GPT tokenizer\n",
    "gpt_encoding = tiktoken.encoding_for_model(\"gpt-3.5-turbo\")\n",
    "\n",
    "# Loop through the nodes and calculate token counts for both models\n",
    "for i, node in enumerate(nodes):\n",
    "    # Tokenize with GPT encoding\n",
    "    gpt_token_count = len(gpt_encoding.encode(node.text))\n",
    "\n",
    "    # Tokenize with LLaMA encoding\n",
    "    llama_tokens = llama_tokenizer.encode(node.text, add_special_tokens=False)\n",
    "    llama_token_count = len(llama_tokens)\n",
    "\n",
    "    print(f'Number of GPT tokens in node {i+1}: {gpt_token_count}')\n",
    "    print(f'Number of LLaMA tokens in node {i+1}: {llama_token_count}')\n"
   ]
  },
  {
   "cell_type": "code",
   "execution_count": null,
   "metadata": {},
   "outputs": [],
   "source": [
    "!pip install sentencepiece"
   ]
  },
  {
   "cell_type": "code",
   "execution_count": null,
   "metadata": {},
   "outputs": [],
   "source": [
    "from transformers import LlamaTokenizer\n",
    "import tiktoken\n",
    "\n",
    "# Load the Hugging Face LLaMA tokenizer\n",
    "llama_tokenizer = LlamaTokenizer.from_pretrained(\"huggingface/llama-model\")\n",
    "\n",
    "# Load OpenAI's GPT tokenizer\n",
    "gpt_encoding = tiktoken.encoding_for_model(\"gpt-3.5-turbo\")\n",
    "\n",
    "# Loop through the nodes and calculate token counts for both models\n",
    "for i, node in enumerate(nodes):\n",
    "    # Tokenize with GPT encoding\n",
    "    gpt_token_count = len(gpt_encoding.encode(node.text))\n",
    "\n",
    "    # Tokenize with LLaMA encoding\n",
    "    llama_tokens = llama_tokenizer.encode(node.text, add_special_tokens=False)\n",
    "    llama_token_count = len(llama_tokens)\n",
    "\n",
    "    print(f'Number of GPT tokens in node {i+1}: {gpt_token_count}')\n",
    "    print(f'Number of LLaMA tokens in node {i+1}: {llama_token_count}')\n"
   ]
  }
 ],
 "metadata": {
  "language_info": {
   "name": "python"
  }
 },
 "nbformat": 4,
 "nbformat_minor": 2
}
