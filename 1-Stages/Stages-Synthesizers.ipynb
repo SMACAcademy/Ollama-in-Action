{
 "cells": [
  {
   "cell_type": "code",
   "execution_count": null,
   "metadata": {},
   "outputs": [],
   "source": [
    "%pip install chromadb\n",
    "%pip install llama-index chromadb\n",
    "%pip install llama-index-vector-stores-chroma"
   ]
  },
  {
   "cell_type": "code",
   "execution_count": null,
   "metadata": {},
   "outputs": [],
   "source": [
    "from llama_index.core import VectorStoreIndex, SimpleDirectoryReader\n",
    "from llama_index.vector_stores.chroma import ChromaVectorStore\n",
    "from llama_index.core import StorageContext\n",
    "from llama_index.embeddings.ollama import OllamaEmbedding\n",
    "\n",
    "\n"
   ]
  },
  {
   "cell_type": "code",
   "execution_count": null,
   "metadata": {},
   "outputs": [],
   "source": [
    "documents = SimpleDirectoryReader(input_files=['../data_uber/uber_2021.pdf']).load_data()"
   ]
  },
  {
   "cell_type": "code",
   "execution_count": null,
   "metadata": {},
   "outputs": [],
   "source": [
    "len(documents)"
   ]
  },
  {
   "cell_type": "code",
   "execution_count": null,
   "metadata": {},
   "outputs": [],
   "source": [
    "ollama_embedding = OllamaEmbedding(\n",
    "    model_name=\"nomic-embed-text:latest\",  # Replace with your desired model\n",
    "    base_url=\"http://localhost:11434\",  # Ensure Ollama is running at this endpoint\n",
    "    ollama_additional_kwargs={\"mirostat\": 0} #Mirostat is a technique for controlling perplexity and balancing the text generation process in large language models (LLMs).\n",
    ")    "
   ]
  },
  {
   "cell_type": "code",
   "execution_count": null,
   "metadata": {},
   "outputs": [],
   "source": [
    "index = VectorStoreIndex.from_documents(documents, embed_model=ollama_embedding)\n"
   ]
  },
  {
   "cell_type": "code",
   "execution_count": null,
   "metadata": {},
   "outputs": [],
   "source": [
    "from llama_index.core import Settings\n",
    "from llama_index.llms.ollama import  Ollama\n",
    "\n",
    "Settings.llm = Ollama(model='llama3.2:latest', base_url='http://localhost:11434',temperature=0.1)"
   ]
  },
  {
   "cell_type": "code",
   "execution_count": null,
   "metadata": {},
   "outputs": [],
   "source": [
    "from llama_index.core import get_response_synthesizer"
   ]
  },
  {
   "cell_type": "code",
   "execution_count": null,
   "metadata": {},
   "outputs": [],
   "source": [
    "# Refine Mode\n",
    "response_synthesizer = get_response_synthesizer(response_mode=\"refine\")\n",
    "response = index.as_query_engine(response_synthesizer=response_synthesizer).query(\"What are the key highlights of Uber's 2021 report?\")\n",
    "print(response)"
   ]
  },
  {
   "cell_type": "code",
   "execution_count": null,
   "metadata": {},
   "outputs": [],
   "source": [
    "# Compact Mode\n",
    "response_synthesizer = get_response_synthesizer(response_mode=\"compact\")\n",
    "# response = index.as_query_engine(response_synthesizer=response_synthesizer).query(\"What are the key highlights of Uber's 2021 report?\")\n",
    "response = index.as_query_engine(response_synthesizer=response_synthesizer).query(\"Summarize Uber's 2021 performance.\")\n",
    "print(response)\n"
   ]
  },
  {
   "cell_type": "code",
   "execution_count": null,
   "metadata": {},
   "outputs": [],
   "source": [
    "# Tree Summarize Mode\n",
    "response_synthesizer = get_response_synthesizer(response_mode=\"tree_summarize\")\n",
    "# response = index.as_query_engine(response_synthesizer=response_synthesizer).query(\"What are the key highlights of Uber's 2021 report?\")\n",
    "response = index.as_query_engine(response_synthesizer=response_synthesizer).query(\"Provide a structured summary of Uber's 2021 report.\")\n",
    "print(response)"
   ]
  },
  {
   "cell_type": "code",
   "execution_count": null,
   "metadata": {},
   "outputs": [],
   "source": [
    "# Accumulate Mode\n",
    "response_synthesizer = get_response_synthesizer(response_mode=\"accumulate\")\n",
    "response = index.as_query_engine(response_synthesizer=response_synthesizer).query(\"Retrieve all data points related to Uber's 2021 report.\")\n",
    "print(response)\n"
   ]
  },
  {
   "cell_type": "code",
   "execution_count": null,
   "metadata": {},
   "outputs": [],
   "source": [
    "# Compact Accumulate Mode\n",
    "response_synthesizer = get_response_synthesizer(response_mode=\"compact_accumulate\")\n",
    "response = index.as_query_engine(response_synthesizer=response_synthesizer).query(\"Provide a concise version of all data points in Uber's 2021 report.\")\n",
    "print(response)\n"
   ]
  }
 ],
 "metadata": {
  "kernelspec": {
   "display_name": "llamaindex",
   "language": "python",
   "name": "python3"
  },
  "language_info": {
   "codemirror_mode": {
    "name": "ipython",
    "version": 3
   },
   "file_extension": ".py",
   "mimetype": "text/x-python",
   "name": "python",
   "nbconvert_exporter": "python",
   "pygments_lexer": "ipython3",
   "version": "3.11.10"
  }
 },
 "nbformat": 4,
 "nbformat_minor": 2
}
