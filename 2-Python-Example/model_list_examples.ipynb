{
 "cells": [
  {
   "cell_type": "code",
   "execution_count": 1,
   "metadata": {},
   "outputs": [],
   "source": [
    "import ollama "
   ]
  },
  {
   "cell_type": "code",
   "execution_count": 2,
   "metadata": {},
   "outputs": [],
   "source": [
    "models_list = ollama.list().get('models', [])\n"
   ]
  },
  {
   "cell_type": "code",
   "execution_count": 3,
   "metadata": {},
   "outputs": [
    {
     "data": {
      "text/plain": [
       "[Model(model='my-assistant:latest', modified_at=datetime.datetime(2025, 2, 20, 11, 58, 56, 748030, tzinfo=TzInfo(+05:30)), digest='c60ad55315a522bb8967df8a787f336fb80f143d6700c2709c1dcf9d324110c8', size=2019393299, details=ModelDetails(parent_model='', format='gguf', family='llama', families=['llama'], parameter_size='3.2B', quantization_level='Q4_K_M')),\n",
       " Model(model='llama3.2:latest', modified_at=datetime.datetime(2025, 2, 20, 11, 57, 18, 399534, tzinfo=TzInfo(+05:30)), digest='a80c4f17acd55265feec403c7aef86be0c25983ab279d83f3bcd3abbcb5b8b72', size=2019393189, details=ModelDetails(parent_model='', format='gguf', family='llama', families=['llama'], parameter_size='3.2B', quantization_level='Q4_K_M')),\n",
       " Model(model='llava:latest', modified_at=datetime.datetime(2025, 2, 19, 23, 46, 56, 825181, tzinfo=TzInfo(+05:30)), digest='8dd30f6b0cb19f555f2c7a7ebda861449ea2cc76bf1f44e262931f45fc81d081', size=4733363377, details=ModelDetails(parent_model='', format='gguf', family='llama', families=['llama', 'clip'], parameter_size='7B', quantization_level='Q4_0')),\n",
       " Model(model='llama3.2-vision:latest', modified_at=datetime.datetime(2025, 2, 16, 23, 43, 30, 688231, tzinfo=TzInfo(+05:30)), digest='085a1fdae525a3804ac95416b38498099c241defd0f1efc71dcca7f63190ba3d', size=7901829417, details=ModelDetails(parent_model='', format='gguf', family='mllama', families=['mllama', 'mllama'], parameter_size='9.8B', quantization_level='Q4_K_M')),\n",
       " Model(model='deepseek-r1:8b', modified_at=datetime.datetime(2025, 1, 28, 14, 45, 30, 655298, tzinfo=TzInfo(+05:30)), digest='28f8fd6cdc677661426adab9338ce3c013d7e69a5bea9e704b364171a5d61a10', size=4920738407, details=ModelDetails(parent_model='', format='gguf', family='llama', families=['llama'], parameter_size='8.0B', quantization_level='Q4_K_M')),\n",
       " Model(model='deepseek-r1:14b', modified_at=datetime.datetime(2025, 1, 28, 14, 22, 29, 758397, tzinfo=TzInfo(+05:30)), digest='ea35dfe18182f635ee2b214ea30b7520fe1ada68da018f8b395b444b662d4f1a', size=8988112040, details=ModelDetails(parent_model='', format='gguf', family='qwen2', families=['qwen2'], parameter_size='14.8B', quantization_level='Q4_K_M')),\n",
       " Model(model='llama3-groq-tool-use:latest', modified_at=datetime.datetime(2025, 1, 27, 13, 23, 2, 760672, tzinfo=TzInfo(+05:30)), digest='36211dad2b153f09fe2b0c5f3e4e82ee83d27db68e3a00006cd934dfdc5057a4', size=4661257688, details=ModelDetails(parent_model='', format='gguf', family='llama', families=['llama'], parameter_size='8.0B', quantization_level='Q4_0')),\n",
       " Model(model='snowflake-arctic-embed:latest', modified_at=datetime.datetime(2025, 1, 18, 19, 57, 17, 462646, tzinfo=TzInfo(+05:30)), digest='21ab8b9b0545e26a78164a910691440a3f1de1bfa41c3953d7451d52036c581a', size=669493195, details=ModelDetails(parent_model='', format='gguf', family='bert', families=['bert'], parameter_size='334M', quantization_level='F16')),\n",
       " Model(model='mxbai-embed-large:latest', modified_at=datetime.datetime(2025, 1, 18, 19, 56, 15, 919104, tzinfo=TzInfo(+05:30)), digest='468836162de7f81e041c43663fedbbba921dcea9b9fefea135685a39b2d83dd8', size=669615493, details=ModelDetails(parent_model='', format='gguf', family='bert', families=['bert'], parameter_size='334M', quantization_level='F16')),\n",
       " Model(model='bge-m3:latest', modified_at=datetime.datetime(2025, 1, 18, 19, 53, 58, 683983, tzinfo=TzInfo(+05:30)), digest='7907646426070047a77226ac3e684fbbe8410524f7b4a74d02837e43f2146bab', size=1157672605, details=ModelDetails(parent_model='', format='gguf', family='bert', families=['bert'], parameter_size='566.70M', quantization_level='F16')),\n",
       " Model(model='phi4:latest', modified_at=datetime.datetime(2025, 1, 13, 9, 7, 52, 822466, tzinfo=TzInfo(+05:30)), digest='ac896e5b8b34a1f4efa7b14d7520725140d5512484457fab45d2a4ea14c69dba', size=9053116391, details=ModelDetails(parent_model='', format='gguf', family='phi3', families=['phi3'], parameter_size='14.7B', quantization_level='Q4_K_M')),\n",
       " Model(model='mistral:7b', modified_at=datetime.datetime(2024, 12, 19, 9, 19, 20, 821909, tzinfo=TzInfo(+05:30)), digest='f974a74358d62a017b37c6f424fcdf2744ca02926c4f952513ddf474b2fa5091', size=4113301824, details=ModelDetails(parent_model='', format='gguf', family='llama', families=['llama'], parameter_size='7.2B', quantization_level='Q4_0')),\n",
       " Model(model='gemma2:2b', modified_at=datetime.datetime(2024, 11, 13, 10, 44, 52, 973734, tzinfo=TzInfo(+05:30)), digest='8ccf136fdd5298f3ffe2d69862750ea7fb56555fa4d5b18c04e3fa4d82ee09d7', size=1629518495, details=ModelDetails(parent_model='', format='gguf', family='gemma2', families=['gemma2'], parameter_size='2.6B', quantization_level='Q4_0')),\n",
       " Model(model='mervinpraison/tamilan-2:latest', modified_at=datetime.datetime(2024, 11, 12, 23, 40, 16, 781496, tzinfo=TzInfo(+05:30)), digest='4d9eb681048b07273841cc50172703e9e17340f953fd6f2843e925f4e67363e5', size=6647366659, details=ModelDetails(parent_model='', format='gguf', family='gemma2', families=['gemma2'], parameter_size='9.2B', quantization_level='Q5_K_M')),\n",
       " Model(model='qwen2.5-coder:7b', modified_at=datetime.datetime(2024, 11, 12, 22, 17, 14, 454415, tzinfo=TzInfo(+05:30)), digest='2b0496514337a3d5901f1d253d01726c890b721e891335a56d6e08cedf3e2cb0', size=4683087519, details=ModelDetails(parent_model='', format='gguf', family='qwen2', families=['qwen2'], parameter_size='7.6B', quantization_level='Q4_K_M')),\n",
       " Model(model='nomic-embed-text:latest', modified_at=datetime.datetime(2024, 11, 12, 22, 6, 17, 892781, tzinfo=TzInfo(+05:30)), digest='0a109f422b47e3a30ba2b10eca18548e944e8a23073ee3f3e947efcf3c45e59f', size=274302450, details=ModelDetails(parent_model='', format='gguf', family='nomic-bert', families=['nomic-bert'], parameter_size='137M', quantization_level='F16')),\n",
       " Model(model='deepseek-coder-v2:16b', modified_at=datetime.datetime(2024, 11, 3, 14, 8, 23, 116624, tzinfo=TzInfo(+05:30)), digest='63fb193b3a9b4322a18e8c6b250ca2e70a5ff531e962dbf95ba089b2566f2fa5', size=8905126121, details=ModelDetails(parent_model='', format='gguf', family='deepseek2', families=['deepseek2'], parameter_size='15.7B', quantization_level='Q4_0'))]"
      ]
     },
     "execution_count": 3,
     "metadata": {},
     "output_type": "execute_result"
    }
   ],
   "source": [
    "models_list"
   ]
  }
 ],
 "metadata": {
  "kernelspec": {
   "display_name": "langchain_py311",
   "language": "python",
   "name": "python3"
  },
  "language_info": {
   "codemirror_mode": {
    "name": "ipython",
    "version": 3
   },
   "file_extension": ".py",
   "mimetype": "text/x-python",
   "name": "python",
   "nbconvert_exporter": "python",
   "pygments_lexer": "ipython3",
   "version": "3.11.10"
  }
 },
 "nbformat": 4,
 "nbformat_minor": 2
}
